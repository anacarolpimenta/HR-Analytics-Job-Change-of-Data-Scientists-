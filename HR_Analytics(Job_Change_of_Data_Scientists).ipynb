{
  "nbformat": 4,
  "nbformat_minor": 0,
  "metadata": {
    "colab": {
      "name": "HR Analytics(Job Change of Data Scientists).ipynb",
      "provenance": []
    },
    "kernelspec": {
      "name": "python3",
      "display_name": "Python 3"
    }
  },
  "cells": [
    {
      "cell_type": "markdown",
      "metadata": {
        "id": "IFnqgXDIfrbj"
      },
      "source": [
        "#### Importando as bibliotecas que serão utilizadas"
      ]
    },
    {
      "cell_type": "code",
      "metadata": {
        "id": "2hp1F8t1NvwD"
      },
      "source": [
        "import pandas as pd\r\n",
        "import numpy as np\r\n",
        "from sklearn.preprocessing import LabelEncoder, OneHotEncoder, StandardScaler, OrdinalEncoder\r\n",
        "from sklearn.model_selection import train_test_split\r\n",
        "import seaborn as sns\r\n",
        "import matplotlib.pyplot as plt"
      ],
      "execution_count": 75,
      "outputs": []
    },
    {
      "cell_type": "markdown",
      "metadata": {
        "id": "Egr32lRYfwVK"
      },
      "source": [
        "#### Leitura do DataSet"
      ]
    },
    {
      "cell_type": "code",
      "metadata": {
        "id": "ZcVgQZJyO0t5"
      },
      "source": [
        "treino = pd.read_csv('/content/drive/MyDrive/DataSets/DataSetsKaggle/aug_train.csv')\r\n",
        "#teste = pd.read_csv('/content/drive/MyDrive/DataSets/DataSetsKaggle/aug_test.csv')\r\n",
        "\r\n",
        "treino.drop('enrollee_id', axis=1, inplace=True)\r\n",
        "#teste.drop('enrollee_id', axis=1, inplace=True)"
      ],
      "execution_count": 141,
      "outputs": []
    },
    {
      "cell_type": "markdown",
      "metadata": {
        "id": "EH-LRN6RPXiz"
      },
      "source": [
        "Features/ variáveis\r\n",
        " - enrollee_id : Unique ID for enrollee\r\n",
        " - city: City code\r\n",
        " - citydevelopmentindex: Developement index of the city (scaled)\r\n",
        " - gender: Gender of enrolee\r\n",
        " - relevent_experience: Relevent experience of enrolee\r\n",
        " - enrolled_university: Type of University course enrolled if any\r\n",
        " - education_level: Education level of enrolee\r\n",
        " - major_discipline :Education major discipline of enrolee\r\n",
        " - experience: Enrolee total experience in years\r\n",
        " - company_size: No of employees in current employer's company\r\n",
        " - company_type : Type of current employer\r\n",
        " - lastnewjob: Difference in years between previous job and current job\r\n",
        " - training_hours: training hours completed\r\n",
        " - target: 0 – Not looking for job change, 1 – Looking for a job change"
      ]
    },
    {
      "cell_type": "code",
      "metadata": {
        "colab": {
          "base_uri": "https://localhost:8080/"
        },
        "id": "tOsTMXwjPGGv",
        "outputId": "cbcb915f-9d5b-4e73-a01f-44f3f3160406"
      },
      "source": [
        "treino.shape"
      ],
      "execution_count": 77,
      "outputs": [
        {
          "output_type": "execute_result",
          "data": {
            "text/plain": [
              "(19158, 13)"
            ]
          },
          "metadata": {
            "tags": []
          },
          "execution_count": 77
        }
      ]
    },
    {
      "cell_type": "code",
      "metadata": {
        "colab": {
          "base_uri": "https://localhost:8080/"
        },
        "id": "soY5qBZ4PJEk",
        "outputId": "b09d959b-e814-4fa8-92fa-6c793301c35a"
      },
      "source": [
        "#teste.shape"
      ],
      "execution_count": 78,
      "outputs": [
        {
          "output_type": "execute_result",
          "data": {
            "text/plain": [
              "(2129, 12)"
            ]
          },
          "metadata": {
            "tags": []
          },
          "execution_count": 78
        }
      ]
    },
    {
      "cell_type": "code",
      "metadata": {
        "colab": {
          "base_uri": "https://localhost:8080/",
          "height": 258
        },
        "id": "x7IZzvmMPMRQ",
        "outputId": "ef84bf7d-3979-40df-ffa3-33138fea859f"
      },
      "source": [
        "treino.head()"
      ],
      "execution_count": 30,
      "outputs": [
        {
          "output_type": "execute_result",
          "data": {
            "text/html": [
              "<div>\n",
              "<style scoped>\n",
              "    .dataframe tbody tr th:only-of-type {\n",
              "        vertical-align: middle;\n",
              "    }\n",
              "\n",
              "    .dataframe tbody tr th {\n",
              "        vertical-align: top;\n",
              "    }\n",
              "\n",
              "    .dataframe thead th {\n",
              "        text-align: right;\n",
              "    }\n",
              "</style>\n",
              "<table border=\"1\" class=\"dataframe\">\n",
              "  <thead>\n",
              "    <tr style=\"text-align: right;\">\n",
              "      <th></th>\n",
              "      <th>city</th>\n",
              "      <th>city_development_index</th>\n",
              "      <th>gender</th>\n",
              "      <th>relevent_experience</th>\n",
              "      <th>enrolled_university</th>\n",
              "      <th>education_level</th>\n",
              "      <th>major_discipline</th>\n",
              "      <th>experience</th>\n",
              "      <th>company_size</th>\n",
              "      <th>company_type</th>\n",
              "      <th>last_new_job</th>\n",
              "      <th>training_hours</th>\n",
              "      <th>target</th>\n",
              "    </tr>\n",
              "  </thead>\n",
              "  <tbody>\n",
              "    <tr>\n",
              "      <th>0</th>\n",
              "      <td>city_103</td>\n",
              "      <td>0.920</td>\n",
              "      <td>Male</td>\n",
              "      <td>Has relevent experience</td>\n",
              "      <td>no_enrollment</td>\n",
              "      <td>Graduate</td>\n",
              "      <td>STEM</td>\n",
              "      <td>&gt;20</td>\n",
              "      <td>NaN</td>\n",
              "      <td>NaN</td>\n",
              "      <td>1</td>\n",
              "      <td>36</td>\n",
              "      <td>1.0</td>\n",
              "    </tr>\n",
              "    <tr>\n",
              "      <th>1</th>\n",
              "      <td>city_40</td>\n",
              "      <td>0.776</td>\n",
              "      <td>Male</td>\n",
              "      <td>No relevent experience</td>\n",
              "      <td>no_enrollment</td>\n",
              "      <td>Graduate</td>\n",
              "      <td>STEM</td>\n",
              "      <td>15</td>\n",
              "      <td>50-99</td>\n",
              "      <td>Pvt Ltd</td>\n",
              "      <td>&gt;4</td>\n",
              "      <td>47</td>\n",
              "      <td>0.0</td>\n",
              "    </tr>\n",
              "    <tr>\n",
              "      <th>2</th>\n",
              "      <td>city_21</td>\n",
              "      <td>0.624</td>\n",
              "      <td>NaN</td>\n",
              "      <td>No relevent experience</td>\n",
              "      <td>Full time course</td>\n",
              "      <td>Graduate</td>\n",
              "      <td>STEM</td>\n",
              "      <td>5</td>\n",
              "      <td>NaN</td>\n",
              "      <td>NaN</td>\n",
              "      <td>never</td>\n",
              "      <td>83</td>\n",
              "      <td>0.0</td>\n",
              "    </tr>\n",
              "    <tr>\n",
              "      <th>3</th>\n",
              "      <td>city_115</td>\n",
              "      <td>0.789</td>\n",
              "      <td>NaN</td>\n",
              "      <td>No relevent experience</td>\n",
              "      <td>NaN</td>\n",
              "      <td>Graduate</td>\n",
              "      <td>Business Degree</td>\n",
              "      <td>&lt;1</td>\n",
              "      <td>NaN</td>\n",
              "      <td>Pvt Ltd</td>\n",
              "      <td>never</td>\n",
              "      <td>52</td>\n",
              "      <td>1.0</td>\n",
              "    </tr>\n",
              "    <tr>\n",
              "      <th>4</th>\n",
              "      <td>city_162</td>\n",
              "      <td>0.767</td>\n",
              "      <td>Male</td>\n",
              "      <td>Has relevent experience</td>\n",
              "      <td>no_enrollment</td>\n",
              "      <td>Masters</td>\n",
              "      <td>STEM</td>\n",
              "      <td>&gt;20</td>\n",
              "      <td>50-99</td>\n",
              "      <td>Funded Startup</td>\n",
              "      <td>4</td>\n",
              "      <td>8</td>\n",
              "      <td>0.0</td>\n",
              "    </tr>\n",
              "  </tbody>\n",
              "</table>\n",
              "</div>"
            ],
            "text/plain": [
              "       city  city_development_index gender  ... last_new_job training_hours target\n",
              "0  city_103                   0.920   Male  ...            1             36    1.0\n",
              "1   city_40                   0.776   Male  ...           >4             47    0.0\n",
              "2   city_21                   0.624    NaN  ...        never             83    0.0\n",
              "3  city_115                   0.789    NaN  ...        never             52    1.0\n",
              "4  city_162                   0.767   Male  ...            4              8    0.0\n",
              "\n",
              "[5 rows x 13 columns]"
            ]
          },
          "metadata": {
            "tags": []
          },
          "execution_count": 30
        }
      ]
    },
    {
      "cell_type": "code",
      "metadata": {
        "colab": {
          "base_uri": "https://localhost:8080/",
          "height": 292
        },
        "id": "seCZhEzftOmx",
        "outputId": "e4e34e05-5fb9-4265-df79-e0cbfd6f55fd"
      },
      "source": [
        "teste.head()"
      ],
      "execution_count": 31,
      "outputs": [
        {
          "output_type": "execute_result",
          "data": {
            "text/html": [
              "<div>\n",
              "<style scoped>\n",
              "    .dataframe tbody tr th:only-of-type {\n",
              "        vertical-align: middle;\n",
              "    }\n",
              "\n",
              "    .dataframe tbody tr th {\n",
              "        vertical-align: top;\n",
              "    }\n",
              "\n",
              "    .dataframe thead th {\n",
              "        text-align: right;\n",
              "    }\n",
              "</style>\n",
              "<table border=\"1\" class=\"dataframe\">\n",
              "  <thead>\n",
              "    <tr style=\"text-align: right;\">\n",
              "      <th></th>\n",
              "      <th>city</th>\n",
              "      <th>city_development_index</th>\n",
              "      <th>gender</th>\n",
              "      <th>relevent_experience</th>\n",
              "      <th>enrolled_university</th>\n",
              "      <th>education_level</th>\n",
              "      <th>major_discipline</th>\n",
              "      <th>experience</th>\n",
              "      <th>company_size</th>\n",
              "      <th>company_type</th>\n",
              "      <th>last_new_job</th>\n",
              "      <th>training_hours</th>\n",
              "    </tr>\n",
              "  </thead>\n",
              "  <tbody>\n",
              "    <tr>\n",
              "      <th>0</th>\n",
              "      <td>city_41</td>\n",
              "      <td>0.827</td>\n",
              "      <td>Male</td>\n",
              "      <td>Has relevent experience</td>\n",
              "      <td>Full time course</td>\n",
              "      <td>Graduate</td>\n",
              "      <td>STEM</td>\n",
              "      <td>9</td>\n",
              "      <td>&lt;10</td>\n",
              "      <td>NaN</td>\n",
              "      <td>1</td>\n",
              "      <td>21</td>\n",
              "    </tr>\n",
              "    <tr>\n",
              "      <th>1</th>\n",
              "      <td>city_103</td>\n",
              "      <td>0.920</td>\n",
              "      <td>Female</td>\n",
              "      <td>Has relevent experience</td>\n",
              "      <td>no_enrollment</td>\n",
              "      <td>Graduate</td>\n",
              "      <td>STEM</td>\n",
              "      <td>5</td>\n",
              "      <td>NaN</td>\n",
              "      <td>Pvt Ltd</td>\n",
              "      <td>1</td>\n",
              "      <td>98</td>\n",
              "    </tr>\n",
              "    <tr>\n",
              "      <th>2</th>\n",
              "      <td>city_21</td>\n",
              "      <td>0.624</td>\n",
              "      <td>Male</td>\n",
              "      <td>No relevent experience</td>\n",
              "      <td>no_enrollment</td>\n",
              "      <td>High School</td>\n",
              "      <td>NaN</td>\n",
              "      <td>&lt;1</td>\n",
              "      <td>NaN</td>\n",
              "      <td>Pvt Ltd</td>\n",
              "      <td>never</td>\n",
              "      <td>15</td>\n",
              "    </tr>\n",
              "    <tr>\n",
              "      <th>3</th>\n",
              "      <td>city_13</td>\n",
              "      <td>0.827</td>\n",
              "      <td>Male</td>\n",
              "      <td>Has relevent experience</td>\n",
              "      <td>no_enrollment</td>\n",
              "      <td>Masters</td>\n",
              "      <td>STEM</td>\n",
              "      <td>11</td>\n",
              "      <td>10/49</td>\n",
              "      <td>Pvt Ltd</td>\n",
              "      <td>1</td>\n",
              "      <td>39</td>\n",
              "    </tr>\n",
              "    <tr>\n",
              "      <th>4</th>\n",
              "      <td>city_103</td>\n",
              "      <td>0.920</td>\n",
              "      <td>Male</td>\n",
              "      <td>Has relevent experience</td>\n",
              "      <td>no_enrollment</td>\n",
              "      <td>Graduate</td>\n",
              "      <td>STEM</td>\n",
              "      <td>&gt;20</td>\n",
              "      <td>10000+</td>\n",
              "      <td>Pvt Ltd</td>\n",
              "      <td>&gt;4</td>\n",
              "      <td>72</td>\n",
              "    </tr>\n",
              "  </tbody>\n",
              "</table>\n",
              "</div>"
            ],
            "text/plain": [
              "       city  city_development_index  ... last_new_job training_hours\n",
              "0   city_41                   0.827  ...            1             21\n",
              "1  city_103                   0.920  ...            1             98\n",
              "2   city_21                   0.624  ...        never             15\n",
              "3   city_13                   0.827  ...            1             39\n",
              "4  city_103                   0.920  ...           >4             72\n",
              "\n",
              "[5 rows x 12 columns]"
            ]
          },
          "metadata": {
            "tags": []
          },
          "execution_count": 31
        }
      ]
    },
    {
      "cell_type": "code",
      "metadata": {
        "colab": {
          "base_uri": "https://localhost:8080/"
        },
        "id": "6dKtCia8WGBN",
        "outputId": "8508be88-e51e-461f-c799-dc4e274f468e"
      },
      "source": [
        "treino.info()"
      ],
      "execution_count": 142,
      "outputs": [
        {
          "output_type": "stream",
          "text": [
            "<class 'pandas.core.frame.DataFrame'>\n",
            "RangeIndex: 19158 entries, 0 to 19157\n",
            "Data columns (total 13 columns):\n",
            " #   Column                  Non-Null Count  Dtype  \n",
            "---  ------                  --------------  -----  \n",
            " 0   city                    19158 non-null  object \n",
            " 1   city_development_index  19158 non-null  float64\n",
            " 2   gender                  14650 non-null  object \n",
            " 3   relevent_experience     19158 non-null  object \n",
            " 4   enrolled_university     18772 non-null  object \n",
            " 5   education_level         18698 non-null  object \n",
            " 6   major_discipline        16345 non-null  object \n",
            " 7   experience              19093 non-null  object \n",
            " 8   company_size            13220 non-null  object \n",
            " 9   company_type            13018 non-null  object \n",
            " 10  last_new_job            18735 non-null  object \n",
            " 11  training_hours          19158 non-null  int64  \n",
            " 12  target                  19158 non-null  float64\n",
            "dtypes: float64(2), int64(1), object(10)\n",
            "memory usage: 1.9+ MB\n"
          ],
          "name": "stdout"
        }
      ]
    },
    {
      "cell_type": "code",
      "metadata": {
        "colab": {
          "base_uri": "https://localhost:8080/",
          "height": 142
        },
        "id": "VLALFFHeP02C",
        "outputId": "6f6d4bf6-e48b-4f50-fed5-74fa9676a8ce"
      },
      "source": [
        "treino.describe().T"
      ],
      "execution_count": 143,
      "outputs": [
        {
          "output_type": "execute_result",
          "data": {
            "text/html": [
              "<div>\n",
              "<style scoped>\n",
              "    .dataframe tbody tr th:only-of-type {\n",
              "        vertical-align: middle;\n",
              "    }\n",
              "\n",
              "    .dataframe tbody tr th {\n",
              "        vertical-align: top;\n",
              "    }\n",
              "\n",
              "    .dataframe thead th {\n",
              "        text-align: right;\n",
              "    }\n",
              "</style>\n",
              "<table border=\"1\" class=\"dataframe\">\n",
              "  <thead>\n",
              "    <tr style=\"text-align: right;\">\n",
              "      <th></th>\n",
              "      <th>count</th>\n",
              "      <th>mean</th>\n",
              "      <th>std</th>\n",
              "      <th>min</th>\n",
              "      <th>25%</th>\n",
              "      <th>50%</th>\n",
              "      <th>75%</th>\n",
              "      <th>max</th>\n",
              "    </tr>\n",
              "  </thead>\n",
              "  <tbody>\n",
              "    <tr>\n",
              "      <th>city_development_index</th>\n",
              "      <td>19158.0</td>\n",
              "      <td>0.828848</td>\n",
              "      <td>0.123362</td>\n",
              "      <td>0.448</td>\n",
              "      <td>0.74</td>\n",
              "      <td>0.903</td>\n",
              "      <td>0.92</td>\n",
              "      <td>0.949</td>\n",
              "    </tr>\n",
              "    <tr>\n",
              "      <th>training_hours</th>\n",
              "      <td>19158.0</td>\n",
              "      <td>65.366896</td>\n",
              "      <td>60.058462</td>\n",
              "      <td>1.000</td>\n",
              "      <td>23.00</td>\n",
              "      <td>47.000</td>\n",
              "      <td>88.00</td>\n",
              "      <td>336.000</td>\n",
              "    </tr>\n",
              "    <tr>\n",
              "      <th>target</th>\n",
              "      <td>19158.0</td>\n",
              "      <td>0.249348</td>\n",
              "      <td>0.432647</td>\n",
              "      <td>0.000</td>\n",
              "      <td>0.00</td>\n",
              "      <td>0.000</td>\n",
              "      <td>0.00</td>\n",
              "      <td>1.000</td>\n",
              "    </tr>\n",
              "  </tbody>\n",
              "</table>\n",
              "</div>"
            ],
            "text/plain": [
              "                          count       mean        std  ...     50%    75%      max\n",
              "city_development_index  19158.0   0.828848   0.123362  ...   0.903   0.92    0.949\n",
              "training_hours          19158.0  65.366896  60.058462  ...  47.000  88.00  336.000\n",
              "target                  19158.0   0.249348   0.432647  ...   0.000   0.00    1.000\n",
              "\n",
              "[3 rows x 8 columns]"
            ]
          },
          "metadata": {
            "tags": []
          },
          "execution_count": 143
        }
      ]
    },
    {
      "cell_type": "code",
      "metadata": {
        "colab": {
          "base_uri": "https://localhost:8080/",
          "height": 279
        },
        "id": "qPD9H3jmj0mR",
        "outputId": "ecb7a8eb-149b-452d-8e58-bde4d1f4bdbe"
      },
      "source": [
        "sns.countplot(data=treino, x='target')\r\n",
        "plt.show()"
      ],
      "execution_count": 144,
      "outputs": [
        {
          "output_type": "display_data",
          "data": {
            "image/png": "[encoded data removed]",
            "text/plain": [
              "<Figure size 432x288 with 1 Axes>"
            ]
          },
          "metadata": {
            "tags": [],
            "needs_background": "light"
          }
        }
      ]
    },
    {
      "cell_type": "markdown",
      "metadata": {
        "id": "LtvC8fKwkyYI"
      },
      "source": [
        "##1) Missing Values"
      ]
    },
    {
      "cell_type": "code",
      "metadata": {
        "colab": {
          "base_uri": "https://localhost:8080/"
        },
        "id": "0tCTjTBiQNQk",
        "outputId": "9acf0140-fd32-4c37-890f-712aaeab7a49"
      },
      "source": [
        "treino.isnull().sum()"
      ],
      "execution_count": 145,
      "outputs": [
        {
          "output_type": "execute_result",
          "data": {
            "text/plain": [
              "city                         0\n",
              "city_development_index       0\n",
              "gender                    4508\n",
              "relevent_experience          0\n",
              "enrolled_university        386\n",
              "education_level            460\n",
              "major_discipline          2813\n",
              "experience                  65\n",
              "company_size              5938\n",
              "company_type              6140\n",
              "last_new_job               423\n",
              "training_hours               0\n",
              "target                       0\n",
              "dtype: int64"
            ]
          },
          "metadata": {
            "tags": []
          },
          "execution_count": 145
        }
      ]
    },
    {
      "cell_type": "code",
      "metadata": {
        "colab": {
          "base_uri": "https://localhost:8080/",
          "height": 313
        },
        "id": "5ezgN3pdk-iQ",
        "outputId": "396d2ef4-a46c-4800-8085-45adc3e4d59e"
      },
      "source": [
        "missing = pd.DataFrame(treino.isnull().sum()/len(treino), columns=['Missing'])\r\n",
        "\r\n",
        "cm = sns.light_palette(\"red\", as_cmap=True)\r\n",
        "missing.style.background_gradient(cmap=cm)"
      ],
      "execution_count": 80,
      "outputs": [
        {
          "output_type": "execute_result",
          "data": {
            "text/html": [
              "<style  type=\"text/css\" >\n",
              "#T_8708fb78_4952_11eb_a46d_0242ac1c0002row0_col0,#T_8708fb78_4952_11eb_a46d_0242ac1c0002row1_col0,#T_8708fb78_4952_11eb_a46d_0242ac1c0002row3_col0,#T_8708fb78_4952_11eb_a46d_0242ac1c0002row11_col0,#T_8708fb78_4952_11eb_a46d_0242ac1c0002row12_col0{\n",
              "            background-color:  #f3f0f0;\n",
              "            color:  #000000;\n",
              "        }#T_8708fb78_4952_11eb_a46d_0242ac1c0002row2_col0{\n",
              "            background-color:  #fc4040;\n",
              "            color:  #f1f1f1;\n",
              "        }#T_8708fb78_4952_11eb_a46d_0242ac1c0002row4_col0{\n",
              "            background-color:  #f4e1e1;\n",
              "            color:  #000000;\n",
              "        }#T_8708fb78_4952_11eb_a46d_0242ac1c0002row5_col0{\n",
              "            background-color:  #f4dede;\n",
              "            color:  #000000;\n",
              "        }#T_8708fb78_4952_11eb_a46d_0242ac1c0002row6_col0{\n",
              "            background-color:  #f88282;\n",
              "            color:  #000000;\n",
              "        }#T_8708fb78_4952_11eb_a46d_0242ac1c0002row7_col0{\n",
              "            background-color:  #f3eeee;\n",
              "            color:  #000000;\n",
              "        }#T_8708fb78_4952_11eb_a46d_0242ac1c0002row8_col0{\n",
              "            background-color:  #ff0808;\n",
              "            color:  #f1f1f1;\n",
              "        }#T_8708fb78_4952_11eb_a46d_0242ac1c0002row9_col0{\n",
              "            background-color:  #ff0000;\n",
              "            color:  #f1f1f1;\n",
              "        }#T_8708fb78_4952_11eb_a46d_0242ac1c0002row10_col0{\n",
              "            background-color:  #f4e0e0;\n",
              "            color:  #000000;\n",
              "        }</style><table id=\"T_8708fb78_4952_11eb_a46d_0242ac1c0002\" ><thead>    <tr>        <th class=\"blank level0\" ></th>        <th class=\"col_heading level0 col0\" >Missing</th>    </tr></thead><tbody>\n",
              "                <tr>\n",
              "                        <th id=\"T_8708fb78_4952_11eb_a46d_0242ac1c0002level0_row0\" class=\"row_heading level0 row0\" >city</th>\n",
              "                        <td id=\"T_8708fb78_4952_11eb_a46d_0242ac1c0002row0_col0\" class=\"data row0 col0\" >0.000000</td>\n",
              "            </tr>\n",
              "            <tr>\n",
              "                        <th id=\"T_8708fb78_4952_11eb_a46d_0242ac1c0002level0_row1\" class=\"row_heading level0 row1\" >city_development_index</th>\n",
              "                        <td id=\"T_8708fb78_4952_11eb_a46d_0242ac1c0002row1_col0\" class=\"data row1 col0\" >0.000000</td>\n",
              "            </tr>\n",
              "            <tr>\n",
              "                        <th id=\"T_8708fb78_4952_11eb_a46d_0242ac1c0002level0_row2\" class=\"row_heading level0 row2\" >gender</th>\n",
              "                        <td id=\"T_8708fb78_4952_11eb_a46d_0242ac1c0002row2_col0\" class=\"data row2 col0\" >0.235306</td>\n",
              "            </tr>\n",
              "            <tr>\n",
              "                        <th id=\"T_8708fb78_4952_11eb_a46d_0242ac1c0002level0_row3\" class=\"row_heading level0 row3\" >relevent_experience</th>\n",
              "                        <td id=\"T_8708fb78_4952_11eb_a46d_0242ac1c0002row3_col0\" class=\"data row3 col0\" >0.000000</td>\n",
              "            </tr>\n",
              "            <tr>\n",
              "                        <th id=\"T_8708fb78_4952_11eb_a46d_0242ac1c0002level0_row4\" class=\"row_heading level0 row4\" >enrolled_university</th>\n",
              "                        <td id=\"T_8708fb78_4952_11eb_a46d_0242ac1c0002row4_col0\" class=\"data row4 col0\" >0.020148</td>\n",
              "            </tr>\n",
              "            <tr>\n",
              "                        <th id=\"T_8708fb78_4952_11eb_a46d_0242ac1c0002level0_row5\" class=\"row_heading level0 row5\" >education_level</th>\n",
              "                        <td id=\"T_8708fb78_4952_11eb_a46d_0242ac1c0002row5_col0\" class=\"data row5 col0\" >0.024011</td>\n",
              "            </tr>\n",
              "            <tr>\n",
              "                        <th id=\"T_8708fb78_4952_11eb_a46d_0242ac1c0002level0_row6\" class=\"row_heading level0 row6\" >major_discipline</th>\n",
              "                        <td id=\"T_8708fb78_4952_11eb_a46d_0242ac1c0002row6_col0\" class=\"data row6 col0\" >0.146832</td>\n",
              "            </tr>\n",
              "            <tr>\n",
              "                        <th id=\"T_8708fb78_4952_11eb_a46d_0242ac1c0002level0_row7\" class=\"row_heading level0 row7\" >experience</th>\n",
              "                        <td id=\"T_8708fb78_4952_11eb_a46d_0242ac1c0002row7_col0\" class=\"data row7 col0\" >0.003393</td>\n",
              "            </tr>\n",
              "            <tr>\n",
              "                        <th id=\"T_8708fb78_4952_11eb_a46d_0242ac1c0002level0_row8\" class=\"row_heading level0 row8\" >company_size</th>\n",
              "                        <td id=\"T_8708fb78_4952_11eb_a46d_0242ac1c0002row8_col0\" class=\"data row8 col0\" >0.309949</td>\n",
              "            </tr>\n",
              "            <tr>\n",
              "                        <th id=\"T_8708fb78_4952_11eb_a46d_0242ac1c0002level0_row9\" class=\"row_heading level0 row9\" >company_type</th>\n",
              "                        <td id=\"T_8708fb78_4952_11eb_a46d_0242ac1c0002row9_col0\" class=\"data row9 col0\" >0.320493</td>\n",
              "            </tr>\n",
              "            <tr>\n",
              "                        <th id=\"T_8708fb78_4952_11eb_a46d_0242ac1c0002level0_row10\" class=\"row_heading level0 row10\" >last_new_job</th>\n",
              "                        <td id=\"T_8708fb78_4952_11eb_a46d_0242ac1c0002row10_col0\" class=\"data row10 col0\" >0.022080</td>\n",
              "            </tr>\n",
              "            <tr>\n",
              "                        <th id=\"T_8708fb78_4952_11eb_a46d_0242ac1c0002level0_row11\" class=\"row_heading level0 row11\" >training_hours</th>\n",
              "                        <td id=\"T_8708fb78_4952_11eb_a46d_0242ac1c0002row11_col0\" class=\"data row11 col0\" >0.000000</td>\n",
              "            </tr>\n",
              "            <tr>\n",
              "                        <th id=\"T_8708fb78_4952_11eb_a46d_0242ac1c0002level0_row12\" class=\"row_heading level0 row12\" >target</th>\n",
              "                        <td id=\"T_8708fb78_4952_11eb_a46d_0242ac1c0002row12_col0\" class=\"data row12 col0\" >0.000000</td>\n",
              "            </tr>\n",
              "    </tbody></table>"
            ],
            "text/plain": [
              "<pandas.io.formats.style.Styler at 0x7f3aa0b40fd0>"
            ]
          },
          "metadata": {
            "tags": []
          },
          "execution_count": 80
        }
      ]
    },
    {
      "cell_type": "code",
      "metadata": {
        "colab": {
          "base_uri": "https://localhost:8080/"
        },
        "id": "94m_p8MKmUVy",
        "outputId": "414e94d7-13ac-44b4-d49c-33b7ba40ce33"
      },
      "source": [
        "treino.gender.value_counts()"
      ],
      "execution_count": 18,
      "outputs": [
        {
          "output_type": "execute_result",
          "data": {
            "text/plain": [
              "Male      13221\n",
              "Female     1238\n",
              "Other       191\n",
              "Name: gender, dtype: int64"
            ]
          },
          "metadata": {
            "tags": []
          },
          "execution_count": 18
        }
      ]
    },
    {
      "cell_type": "code",
      "metadata": {
        "colab": {
          "base_uri": "https://localhost:8080/"
        },
        "id": "Q5IFR5eKpYxN",
        "outputId": "b1be53e5-a358-4987-c958-54c0ead4302d"
      },
      "source": [
        "treino['enrolled_university'].value_counts()"
      ],
      "execution_count": 19,
      "outputs": [
        {
          "output_type": "execute_result",
          "data": {
            "text/plain": [
              "no_enrollment       13817\n",
              "Full time course     3757\n",
              "Part time course     1198\n",
              "Name: enrolled_university, dtype: int64"
            ]
          },
          "metadata": {
            "tags": []
          },
          "execution_count": 19
        }
      ]
    },
    {
      "cell_type": "code",
      "metadata": {
        "colab": {
          "base_uri": "https://localhost:8080/"
        },
        "id": "tFm8RPI_pkRU",
        "outputId": "2f791203-a358-400c-e3a3-56cc552d515a"
      },
      "source": [
        "treino['education_level'].value_counts()"
      ],
      "execution_count": 20,
      "outputs": [
        {
          "output_type": "execute_result",
          "data": {
            "text/plain": [
              "Graduate          11598\n",
              "Masters            4361\n",
              "High School        2017\n",
              "Phd                 414\n",
              "Primary School      308\n",
              "Name: education_level, dtype: int64"
            ]
          },
          "metadata": {
            "tags": []
          },
          "execution_count": 20
        }
      ]
    },
    {
      "cell_type": "code",
      "metadata": {
        "colab": {
          "base_uri": "https://localhost:8080/"
        },
        "id": "yZsQDfQXpwOq",
        "outputId": "bb323ca1-61eb-4d83-d9f2-751d2a7b13a4"
      },
      "source": [
        "treino['major_discipline'].value_counts()"
      ],
      "execution_count": 21,
      "outputs": [
        {
          "output_type": "execute_result",
          "data": {
            "text/plain": [
              "STEM               14492\n",
              "Humanities           669\n",
              "Other                381\n",
              "Business Degree      327\n",
              "Arts                 253\n",
              "No Major             223\n",
              "Name: major_discipline, dtype: int64"
            ]
          },
          "metadata": {
            "tags": []
          },
          "execution_count": 21
        }
      ]
    },
    {
      "cell_type": "code",
      "metadata": {
        "colab": {
          "base_uri": "https://localhost:8080/"
        },
        "id": "GBpnA0LXp4YM",
        "outputId": "ce25a430-a279-481d-ba2b-c2f3cc43b87f"
      },
      "source": [
        "treino['experience'].value_counts()"
      ],
      "execution_count": 22,
      "outputs": [
        {
          "output_type": "execute_result",
          "data": {
            "text/plain": [
              ">20    3286\n",
              "5      1430\n",
              "4      1403\n",
              "3      1354\n",
              "6      1216\n",
              "2      1127\n",
              "7      1028\n",
              "10      985\n",
              "9       980\n",
              "8       802\n",
              "15      686\n",
              "11      664\n",
              "14      586\n",
              "1       549\n",
              "<1      522\n",
              "16      508\n",
              "12      494\n",
              "13      399\n",
              "17      342\n",
              "19      304\n",
              "18      280\n",
              "20      148\n",
              "Name: experience, dtype: int64"
            ]
          },
          "metadata": {
            "tags": []
          },
          "execution_count": 22
        }
      ]
    },
    {
      "cell_type": "code",
      "metadata": {
        "colab": {
          "base_uri": "https://localhost:8080/"
        },
        "id": "h-fruxAVp-S2",
        "outputId": "e272a943-fdbb-43e3-e6e1-a32450f586f4"
      },
      "source": [
        "treino['company_size'].value_counts()"
      ],
      "execution_count": 23,
      "outputs": [
        {
          "output_type": "execute_result",
          "data": {
            "text/plain": [
              "50-99        3083\n",
              "100-500      2571\n",
              "10000+       2019\n",
              "10/49        1471\n",
              "1000-4999    1328\n",
              "<10          1308\n",
              "500-999       877\n",
              "5000-9999     563\n",
              "Name: company_size, dtype: int64"
            ]
          },
          "metadata": {
            "tags": []
          },
          "execution_count": 23
        }
      ]
    },
    {
      "cell_type": "code",
      "metadata": {
        "colab": {
          "base_uri": "https://localhost:8080/"
        },
        "id": "YXJaFvD_qFLu",
        "outputId": "1ea2d803-55f0-4c5c-b936-bd1d466df365"
      },
      "source": [
        "treino['company_type'].value_counts()"
      ],
      "execution_count": 24,
      "outputs": [
        {
          "output_type": "execute_result",
          "data": {
            "text/plain": [
              "Pvt Ltd                9817\n",
              "Funded Startup         1001\n",
              "Public Sector           955\n",
              "Early Stage Startup     603\n",
              "NGO                     521\n",
              "Other                   121\n",
              "Name: company_type, dtype: int64"
            ]
          },
          "metadata": {
            "tags": []
          },
          "execution_count": 24
        }
      ]
    },
    {
      "cell_type": "code",
      "metadata": {
        "colab": {
          "base_uri": "https://localhost:8080/"
        },
        "id": "VeJGM05vqLu5",
        "outputId": "af30ea87-216b-4020-c80e-9cdbb3c0c29b"
      },
      "source": [
        "treino['last_new_job'].value_counts()"
      ],
      "execution_count": 25,
      "outputs": [
        {
          "output_type": "execute_result",
          "data": {
            "text/plain": [
              "1        8040\n",
              ">4       3290\n",
              "2        2900\n",
              "never    2452\n",
              "4        1029\n",
              "3        1024\n",
              "Name: last_new_job, dtype: int64"
            ]
          },
          "metadata": {
            "tags": []
          },
          "execution_count": 25
        }
      ]
    },
    {
      "cell_type": "markdown",
      "metadata": {
        "id": "Phg-vq2zt3pu"
      },
      "source": [
        "###Lidando com missing values das variáveis categóricas"
      ]
    },
    {
      "cell_type": "code",
      "metadata": {
        "id": "GWB8NAoFt2V3"
      },
      "source": [
        "treino['company_size'] = treino['company_size'].replace('10/49', '10-49')"
      ],
      "execution_count": 146,
      "outputs": []
    },
    {
      "cell_type": "code",
      "metadata": {
        "colab": {
          "base_uri": "https://localhost:8080/"
        },
        "id": "-B572Bw4uEQ9",
        "outputId": "708a57f8-5520-4fb0-b374-24f404e6d9e7"
      },
      "source": [
        "treino['company_size'].value_counts()"
      ],
      "execution_count": 147,
      "outputs": [
        {
          "output_type": "execute_result",
          "data": {
            "text/plain": [
              "50-99        3083\n",
              "100-500      2571\n",
              "10000+       2019\n",
              "10-49        1471\n",
              "1000-4999    1328\n",
              "<10          1308\n",
              "500-999       877\n",
              "5000-9999     563\n",
              "Name: company_size, dtype: int64"
            ]
          },
          "metadata": {
            "tags": []
          },
          "execution_count": 147
        }
      ]
    },
    {
      "cell_type": "code",
      "metadata": {
        "id": "LL-KFhrnvo7J"
      },
      "source": [
        "treino[['gender', 'company_type', 'major_discipline', 'enrolled_university', 'education_level',\r\n",
        "        'experience', 'company_size', 'last_new_job']] = treino[['gender', 'company_type', 'major_discipline', 'enrolled_university', 'education_level',\r\n",
        "        'experience', 'company_size', 'last_new_job']].fillna('No')"
      ],
      "execution_count": 148,
      "outputs": []
    },
    {
      "cell_type": "code",
      "metadata": {
        "id": "fR5tekiG8suq"
      },
      "source": [
        "previsores = treino.iloc[:, 0:12 ].values\r\n",
        "classe = treino.iloc[:, 12].values"
      ],
      "execution_count": 149,
      "outputs": []
    },
    {
      "cell_type": "code",
      "metadata": {
        "colab": {
          "base_uri": "https://localhost:8080/"
        },
        "id": "Z-Py8t-hOjjU",
        "outputId": "2b6a2acb-a7ef-4978-8b12-b7a1b399bfd7"
      },
      "source": [
        "previsores[:, 5]"
      ],
      "execution_count": 150,
      "outputs": [
        {
          "output_type": "execute_result",
          "data": {
            "text/plain": [
              "array(['Graduate', 'Graduate', 'Graduate', ..., 'Graduate', 'High School',\n",
              "       'Primary School'], dtype=object)"
            ]
          },
          "metadata": {
            "tags": []
          },
          "execution_count": 150
        }
      ]
    },
    {
      "cell_type": "markdown",
      "metadata": {
        "id": "EpTcoBPmbF4L"
      },
      "source": [
        "##2) Padronização das variáveis Numéricas"
      ]
    },
    {
      "cell_type": "code",
      "metadata": {
        "colab": {
          "base_uri": "https://localhost:8080/"
        },
        "id": "uYqP1K_Sbf_s",
        "outputId": "fd83d436-0b88-4f42-874e-44b12d12dbe8"
      },
      "source": [
        "previsores[:5, 1]"
      ],
      "execution_count": 155,
      "outputs": [
        {
          "output_type": "execute_result",
          "data": {
            "text/plain": [
              "array([0.92, 0.7759999999999999, 0.624, 0.789, 0.767], dtype=object)"
            ]
          },
          "metadata": {
            "tags": []
          },
          "execution_count": 155
        }
      ]
    },
    {
      "cell_type": "code",
      "metadata": {
        "id": "pA0z6MKTbT9V"
      },
      "source": [
        "scaler = StandardScaler()\r\n",
        "previsores[:, [1, 11]] = scaler.fit_transform(previsores[:, [1, 11]])"
      ],
      "execution_count": 156,
      "outputs": []
    },
    {
      "cell_type": "markdown",
      "metadata": {
        "id": "YZpTFYBYxNWn"
      },
      "source": [
        "##3) Codificação das variáveis Categóricas"
      ]
    },
    {
      "cell_type": "markdown",
      "metadata": {
        "id": "rgLEwsqEuz49"
      },
      "source": [
        "### Variáveis Categóricas Ordinais\r\n",
        " - education_level\r\n",
        " - experience\r\n",
        " - company_size\r\n",
        " - last_new_job"
      ]
    },
    {
      "cell_type": "code",
      "metadata": {
        "id": "c1XYv1QQxTc_"
      },
      "source": [
        "Ordinal_encoder = OrdinalEncoder([\r\n",
        "    ['No', 'Primary School',  'High School', 'Graduate', 'Masters', 'Phd'],\r\n",
        "    'No,<1,1,2,3,4,5,6,7,8,9,10,11,12,13,14,15,16,17,18,19,20,>20'.split(','),\r\n",
        "    ['No','<10', '10-49', '50-99', '100-500', '500-999' ,'1000-4999', '5000-9999', '10000+'],\r\n",
        "    ['No','1', '2', '3', '4', '>4', 'never']\r\n",
        "])\r\n",
        "\r\n",
        "\r\n",
        "# category_notNull_ordinal = category_notNull[['education_level', 'experience', 'company_size', 'last_new_job']]\r\n",
        "\r\n",
        "previsores[:, [5, 7, 8, 10]] = Ordinal_encoder.fit_transform(previsores[:, [5, 7, 8, 10]])"
      ],
      "execution_count": 157,
      "outputs": []
    },
    {
      "cell_type": "code",
      "metadata": {
        "colab": {
          "base_uri": "https://localhost:8080/"
        },
        "id": "HFBjRjvX-Xu7",
        "outputId": "06ad78ac-3397-47ab-98eb-db86a6067ab4"
      },
      "source": [
        "previsores[:, 5]"
      ],
      "execution_count": 99,
      "outputs": [
        {
          "output_type": "execute_result",
          "data": {
            "text/plain": [
              "array([3.0, 3.0, 3.0, ..., 3.0, 2.0, 1.0], dtype=object)"
            ]
          },
          "metadata": {
            "tags": []
          },
          "execution_count": 99
        }
      ]
    },
    {
      "cell_type": "markdown",
      "metadata": {
        "id": "vsNovb_gsX0l"
      },
      "source": [
        "### Variáveis Categóricas Nominais\r\n",
        " - gender\r\n",
        " - company_type\r\n",
        " - major_discipline\r\n",
        " - enrolled_university\r\n",
        " - relevent_experience\r\n",
        " - city"
      ]
    },
    {
      "cell_type": "code",
      "metadata": {
        "id": "F1qrQXS5RENS"
      },
      "source": [
        "labelencoder_previsores = LabelEncoder()\r\n",
        "previsores[:, 0] = labelencoder_previsores.fit_transform(previsores[:, 0])\r\n",
        "previsores[:, 2] = labelencoder_previsores.fit_transform(previsores[:, 2])\r\n",
        "previsores[:, 3] = labelencoder_previsores.fit_transform(previsores[:, 2])\r\n",
        "previsores[:, 4] = labelencoder_previsores.fit_transform(previsores[:, 4])\r\n",
        "previsores[:, 6] = labelencoder_previsores.fit_transform(previsores[:, 6])\r\n",
        "previsores[:, 9] = labelencoder_previsores.fit_transform(previsores[:, 9])\r\n"
      ],
      "execution_count": 158,
      "outputs": []
    },
    {
      "cell_type": "code",
      "metadata": {
        "id": "I92pk4uIRTv0"
      },
      "source": [
        "previsores[[0, 2, 3, 4, 6, 9]] = previsores[[0, 2, 3, 4, 6, 9]].astype('float64')"
      ],
      "execution_count": 159,
      "outputs": []
    },
    {
      "cell_type": "code",
      "metadata": {
        "colab": {
          "base_uri": "https://localhost:8080/"
        },
        "id": "rb8zlP-dTiEb",
        "outputId": "16f2ceca-0078-4e60-c77d-2c6949f90dff"
      },
      "source": [
        "previsores[:, 2]"
      ],
      "execution_count": 119,
      "outputs": [
        {
          "output_type": "execute_result",
          "data": {
            "text/plain": [
              "array([1.0, 1, 2.0, ..., 1, 1, 2], dtype=object)"
            ]
          },
          "metadata": {
            "tags": []
          },
          "execution_count": 119
        }
      ]
    },
    {
      "cell_type": "code",
      "metadata": {
        "id": "tf6ivZLFPcFl"
      },
      "source": [
        "onehotencoder = ColumnTransformer([('one_hot_encoder', OneHotEncoder(), [0, 2, 3, 4, 6, 9])],remainder='passthrough')\r\n",
        "previsores = onehotencoder.fit_transform(previsores).toarray()"
      ],
      "execution_count": 160,
      "outputs": []
    },
    {
      "cell_type": "code",
      "metadata": {
        "colab": {
          "base_uri": "https://localhost:8080/"
        },
        "id": "yf4-I7zrUJPA",
        "outputId": "d9fee7c4-552d-47bf-affd-42bdf5feac2b"
      },
      "source": [
        "previsores.shape"
      ],
      "execution_count": 161,
      "outputs": [
        {
          "output_type": "execute_result",
          "data": {
            "text/plain": [
              "(19158, 155)"
            ]
          },
          "metadata": {
            "tags": []
          },
          "execution_count": 161
        }
      ]
    },
    {
      "cell_type": "markdown",
      "metadata": {
        "id": "guElJwfM4Vkc"
      },
      "source": [
        "### Dividindo os dados em Treinamento e Teste"
      ]
    },
    {
      "cell_type": "code",
      "metadata": {
        "id": "DWO0X75A6o0q"
      },
      "source": [
        "previsores_treinamento, previsores_teste, classe_treinamento, classe_teste = train_test_split(previsores, classe, test_size=0.2, random_state= 42, stratify=classe)"
      ],
      "execution_count": 178,
      "outputs": []
    },
    {
      "cell_type": "markdown",
      "metadata": {
        "id": "-r9AxnU7gVNl"
      },
      "source": [
        "#### Previsão e Validação"
      ]
    },
    {
      "cell_type": "code",
      "metadata": {
        "id": "QKlSSAcMXS2f"
      },
      "source": [
        "from sklearn.ensemble import RandomForestClassifier\r\n",
        "classificador = RandomForestClassifier(n_estimators=300, criterion='entropy', random_state=0)\r\n",
        "classificador.fit(previsores_treinamento, classe_treinamento)\r\n",
        "previsoes = classificador.predict(previsores_teste)"
      ],
      "execution_count": 186,
      "outputs": []
    },
    {
      "cell_type": "code",
      "metadata": {
        "id": "Ay5V9lwFYoX6"
      },
      "source": [
        "from sklearn.metrics import confusion_matrix, accuracy_score, roc_auc_score, classification_report\r\n",
        "acuracia = accuracy_score(classe_teste, previsoes)\r\n",
        "matriz = confusion_matrix(classe_teste, previsoes)\r\n",
        "#roc_score = roc_auc_score(classe_teste, previsoes)\r\n",
        "#report = classification_report(classe_teste, previsoes)"
      ],
      "execution_count": 190,
      "outputs": []
    },
    {
      "cell_type": "code",
      "metadata": {
        "colab": {
          "base_uri": "https://localhost:8080/"
        },
        "id": "WZqnxE-eYrbP",
        "outputId": "bf9a07ab-7775-4e4b-fbfd-91d0b1424438"
      },
      "source": [
        "acuracia"
      ],
      "execution_count": 191,
      "outputs": [
        {
          "output_type": "execute_result",
          "data": {
            "text/plain": [
              "0.782098121085595"
            ]
          },
          "metadata": {
            "tags": []
          },
          "execution_count": 191
        }
      ]
    },
    {
      "cell_type": "code",
      "metadata": {
        "colab": {
          "base_uri": "https://localhost:8080/"
        },
        "id": "ZAyGWJOTeZq2",
        "outputId": "c8d1b713-3884-4f16-96a5-e16a1f55ee4c"
      },
      "source": [
        "matriz"
      ],
      "execution_count": 193,
      "outputs": [
        {
          "output_type": "execute_result",
          "data": {
            "text/plain": [
              "array([[2531,  346],\n",
              "       [ 489,  466]])"
            ]
          },
          "metadata": {
            "tags": []
          },
          "execution_count": 193
        }
      ]
    }
  ]
}